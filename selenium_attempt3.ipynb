{
 "cells": [
  {
   "cell_type": "markdown",
   "metadata": {},
   "source": [
    "Работа с окнами"
   ]
  },
  {
   "cell_type": "markdown",
   "metadata": {},
   "source": [
    "Теперь рассмотрим ситуацию, когда в сценарии теста возникает необходимость не только получить содержимое alert, но и нажать кнопку OK, чтобы закрыть alert. Alert является модальным окном: это означает, что пользователь не может взаимодействовать дальше с интерфейсом, пока не закроет alert. Для этого нужно сначала переключиться на окно с alert, а затем принять его с помощью команды accept()"
   ]
  },
  {
   "cell_type": "code",
   "execution_count": null,
   "metadata": {},
   "outputs": [],
   "source": [
    "alert = browser.switch_to.alert\n",
    "alert.accept()"
   ]
  },
  {
   "cell_type": "markdown",
   "metadata": {},
   "source": [
    "Чтобы получить текст из alert, используйте свойство text объекта alert"
   ]
  },
  {
   "cell_type": "code",
   "execution_count": null,
   "metadata": {},
   "outputs": [],
   "source": [
    "alert = browser.switch_to.alert\n",
    "alert_text = alert.text"
   ]
  },
  {
   "cell_type": "markdown",
   "metadata": {},
   "source": [
    "Другой вариант модального окна, который предлагает пользователю выбор согласиться с сообщением или отказаться от него, называется confirm. Для переключения на окно confirm используется та же команда, что и в случае с alert"
   ]
  },
  {
   "cell_type": "code",
   "execution_count": null,
   "metadata": {},
   "outputs": [],
   "source": [
    "confirm = browser.switch_to.alert\n",
    "confirm.accept()\n",
    "# confirm.dismiss()"
   ]
  },
  {
   "cell_type": "markdown",
   "metadata": {},
   "source": [
    "Третий вариант модального окна — prompt — имеет дополнительное поле для ввода текста. Чтобы ввести текст, используйте метод send_keys()"
   ]
  },
  {
   "cell_type": "code",
   "execution_count": null,
   "metadata": {},
   "outputs": [],
   "source": [
    "prompt = browser.switch_to.alert\n",
    "prompt.send_keys(\"My answer\")\n",
    "prompt.accept()"
   ]
  },
  {
   "cell_type": "markdown",
   "metadata": {},
   "source": [
    "Задание. Открыть страницу http://suninjuly.github.io/alert_accept.html\n",
    "Нажать на кнопку\n",
    "Принять confirm\n",
    "На новой странице решить капчу для роботов, чтобы получить число с ответом"
   ]
  },
  {
   "cell_type": "code",
   "execution_count": 1,
   "metadata": {},
   "outputs": [],
   "source": [
    "from selenium import webdriver\n",
    "from selenium.webdriver.common.by import By\n",
    "from selenium.webdriver.support.ui import Select\n",
    "import time \n",
    "import math\n",
    "import os "
   ]
  },
  {
   "cell_type": "code",
   "execution_count": 2,
   "metadata": {},
   "outputs": [],
   "source": [
    "try: \n",
    "    browser = webdriver.Chrome()\n",
    "    link = \"http://suninjuly.github.io/alert_accept.html\"\n",
    "    browser.get(link)\n",
    "\n",
    "    def calc(x):\n",
    "        return str(math.log(abs(12*math.sin(int(x)))))\n",
    "\n",
    "    button = browser.find_element(by=By.XPATH, value='//button[text()=\"I want to go on a magical journey!\"]')\n",
    "    button.click()\n",
    "\n",
    "    confirm = browser.switch_to.alert\n",
    "    confirm.accept()\n",
    "\n",
    "    x_element = browser.find_element(by=By.ID, value=\"input_value\")\n",
    "    x = x_element.text\n",
    "    y = calc(x)\n",
    "\n",
    "    input = browser.find_element(by=By.ID, value=\"answer\")\n",
    "    input.send_keys(y)\n",
    "\n",
    "    button = browser.find_element(by=By.XPATH, value='//button[text()=\"Submit\"]')\n",
    "    browser.execute_script(\"return arguments[0].scrollIntoView(true);\", button)\n",
    "    button.click()\n",
    "\n",
    "finally:\n",
    "    time.sleep(10)\n",
    "    browser.quit()"
   ]
  },
  {
   "cell_type": "markdown",
   "metadata": {},
   "source": [
    "При работе с веб-приложениями приходится переходить по ссылкам, которые открываются в новой вкладке браузера. WebDriver может работать только с одной вкладкой браузера. При открытии новой вкладки WebDriver продолжит работать со старой вкладкой. Для переключения на новую вкладку надо явно указать, на какую вкладку мы хотим перейти. Это делается с помощью команды switch_to.window"
   ]
  },
  {
   "cell_type": "code",
   "execution_count": null,
   "metadata": {},
   "outputs": [],
   "source": [
    "browser.switch_to.window(window_name)"
   ]
  },
  {
   "cell_type": "markdown",
   "metadata": {},
   "source": [
    "Чтобы узнать имя новой вкладки, нужно использовать метод window_handles, который возвращает массив имён всех вкладок. Зная, что в браузере теперь открыто две вкладки, выбираем вторую вкладку"
   ]
  },
  {
   "cell_type": "code",
   "execution_count": null,
   "metadata": {},
   "outputs": [],
   "source": [
    "new_window = browser.window_handles[1]"
   ]
  },
  {
   "cell_type": "markdown",
   "metadata": {},
   "source": [
    "Задание. Открыть страницу http://suninjuly.github.io/redirect_accept.html\n",
    "Нажать на кнопку\n",
    "Переключиться на новую вкладку\n",
    "Пройти капчу для робота и получить число-ответ"
   ]
  },
  {
   "cell_type": "code",
   "execution_count": 5,
   "metadata": {},
   "outputs": [],
   "source": [
    "try: \n",
    "    browser = webdriver.Chrome()\n",
    "    link = \"https://suninjuly.github.io/redirect_accept.html\"\n",
    "    browser.get(link)\n",
    "\n",
    "    def calc(x):\n",
    "        return str(math.log(abs(12*math.sin(int(x)))))\n",
    "\n",
    "    button = browser.find_element(by=By.XPATH, value='//button[text()=\"I want to go on a magical journey!\"]')\n",
    "    button.click()\n",
    "\n",
    "    browser.switch_to.window(browser.window_handles[1])\n",
    "\n",
    "    x_element = browser.find_element(by=By.ID, value=\"input_value\")\n",
    "    x = x_element.text\n",
    "    y = calc(x)\n",
    "\n",
    "    input = browser.find_element(by=By.ID, value=\"answer\")\n",
    "    input.send_keys(y)\n",
    "\n",
    "    button = browser.find_element(by=By.XPATH, value='//button[text()=\"Submit\"]')\n",
    "    browser.execute_script(\"return arguments[0].scrollIntoView(true);\", button)\n",
    "    button.click()\n",
    "\n",
    "finally:\n",
    "    time.sleep(10)\n",
    "    browser.quit()"
   ]
  }
 ],
 "metadata": {
  "interpreter": {
   "hash": "e2069fa8660d98726444b1c3a8c46ff048e6d6948b652fe796c47d12eb80b502"
  },
  "kernelspec": {
   "display_name": "Python 3.10.2 64-bit",
   "language": "python",
   "name": "python3"
  },
  "language_info": {
   "codemirror_mode": {
    "name": "ipython",
    "version": 3
   },
   "file_extension": ".py",
   "mimetype": "text/x-python",
   "name": "python",
   "nbconvert_exporter": "python",
   "pygments_lexer": "ipython3",
   "version": "3.10.2"
  },
  "orig_nbformat": 4
 },
 "nbformat": 4,
 "nbformat_minor": 2
}
