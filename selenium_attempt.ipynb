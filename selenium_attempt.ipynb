{
 "cells": [
  {
   "cell_type": "markdown",
   "metadata": {},
   "source": [
    "Изучение Selenium WebDriver"
   ]
  },
  {
   "cell_type": "code",
   "execution_count": 19,
   "metadata": {},
   "outputs": [],
   "source": [
    "from selenium import webdriver\n",
    "from selenium.webdriver.common.by import By\n",
    "import time \n",
    "import math"
   ]
  },
  {
   "cell_type": "markdown",
   "metadata": {},
   "source": [
    "Задание. Зайти на сайт, заполнить все поля и нажать на кнопку"
   ]
  },
  {
   "cell_type": "code",
   "execution_count": 7,
   "metadata": {},
   "outputs": [],
   "source": [
    "link = \"http://suninjuly.github.io/simple_form_find_task.html\""
   ]
  },
  {
   "cell_type": "markdown",
   "metadata": {},
   "source": [
    "Внимание! Для метода find_element_by_class_name('form-control city'), если имя класса с пробелом, то пробел нужно заменить на точку, т.к. Python сделает селектор просто поставив точку перед именем класс, выдаст ошибку и будет прав, т.к. это синтаксически неверно.\n",
    "\n",
    "Правильно так: \"form-control.city\""
   ]
  },
  {
   "cell_type": "code",
   "execution_count": 17,
   "metadata": {},
   "outputs": [
    {
     "name": "stderr",
     "output_type": "stream",
     "text": [
      "C:\\Users\\lolid\\AppData\\Local\\Temp\\ipykernel_11112\\978884082.py:21: DeprecationWarning: find_element_by_css_selector is deprecated. Please use find_element(by=By.CSS_SELECTOR, value=css_selector) instead\n",
      "  button = browser.find_element_by_css_selector(\"button.btn\")\n"
     ]
    }
   ],
   "source": [
    "try:\n",
    "    browser = webdriver.Chrome()\n",
    "    browser.get(link)\n",
    "\n",
    "    # Находим элемент и заполняем его значением\n",
    "    input1 = browser.find_element(by=By.NAME, value=\"first_name\")\n",
    "    input1.send_keys(\"Ivan\")\n",
    "\n",
    "    input2 = browser.find_element(by=By.NAME, value=\"last_name\")\n",
    "    input2.send_keys(\"Petrov\")\n",
    "\n",
    "    input3 = browser.find_element(by=By.CLASS_NAME, value=\"form-control.city\")\n",
    "    input3.send_keys(\"Smolensk\")\n",
    "\n",
    "    input4 = browser.find_element(by=By.ID, value=\"country\")\n",
    "    input4.send_keys(\"Russia\")\n",
    "\n",
    "    button = browser.find_element_by_css_selector(\"button.btn\")\n",
    "    button.click()\n",
    "\n",
    "\n",
    "finally:\n",
    "    time.sleep(30)\n",
    "    browser.quit()\n"
   ]
  },
  {
   "cell_type": "markdown",
   "metadata": {},
   "source": [
    "Задание. Зайти на сайт, нажать на ссылку, содержащую результат вычисления функции, заполнить все поля и нажать на кнопку"
   ]
  },
  {
   "cell_type": "code",
   "execution_count": 18,
   "metadata": {},
   "outputs": [],
   "source": [
    "link = \"https://suninjuly.github.io/find_link_text\""
   ]
  },
  {
   "cell_type": "code",
   "execution_count": 21,
   "metadata": {},
   "outputs": [
    {
     "name": "stderr",
     "output_type": "stream",
     "text": [
      "C:\\Users\\lolid\\AppData\\Local\\Temp\\ipykernel_11112\\1122755362.py:4: DeprecationWarning: find_element_by_link_text is deprecated. Please use find_element(by=By.LINK_TEXT, value=link_text) instead\n",
      "  input = browser.find_element_by_link_text(str(math.ceil(math.pow(math.pi, math.e)*10000)))\n",
      "C:\\Users\\lolid\\AppData\\Local\\Temp\\ipykernel_11112\\1122755362.py:23: DeprecationWarning: find_element_by_css_selector is deprecated. Please use find_element(by=By.CSS_SELECTOR, value=css_selector) instead\n",
      "  button = browser.find_element_by_css_selector(\"button.btn\")\n"
     ]
    }
   ],
   "source": [
    "try:\n",
    "    browser = webdriver.Chrome()\n",
    "    browser.get(link)\n",
    "    \n",
    "    input = browser.find_element_by_link_text(str(math.ceil(math.pow(math.pi, math.e)*10000)))\n",
    "    input.click()\n",
    "\n",
    "    input1 = browser.find_element(by=By.NAME, value=\"first_name\")\n",
    "    input1.send_keys(\"Ivan\")\n",
    "\n",
    "    input2 = browser.find_element(by=By.NAME, value=\"last_name\")\n",
    "    input2.send_keys(\"Petrov\")\n",
    "\n",
    "    input3 = browser.find_element(by=By.CLASS_NAME, value=\"form-control.city\")\n",
    "    input3.send_keys(\"Smolensk\")\n",
    "\n",
    "    input4 = browser.find_element(by=By.ID, value=\"country\")\n",
    "    input4.send_keys(\"Russia\")\n",
    "\n",
    "    button = browser.find_element_by_css_selector(\"button.btn\")\n",
    "    button.click()\n",
    "\n",
    "finally:\n",
    "    time.sleep(30)\n",
    "    browser.quit()\n"
   ]
  },
  {
   "cell_type": "markdown",
   "metadata": {},
   "source": [
    "Задание. Зайти на сайт, заполнить все поля (а их очень много, поэтому цикл) и нажать на кнопку"
   ]
  },
  {
   "cell_type": "code",
   "execution_count": 22,
   "metadata": {},
   "outputs": [],
   "source": [
    "link = \"http://suninjuly.github.io/huge_form.html\""
   ]
  },
  {
   "cell_type": "code",
   "execution_count": 25,
   "metadata": {},
   "outputs": [
    {
     "name": "stderr",
     "output_type": "stream",
     "text": [
      "C:\\Users\\lolid\\AppData\\Local\\Temp\\ipykernel_11112\\3481652499.py:4: DeprecationWarning: find_elements_by_css_selector is deprecated. Please use find_elements(by=By.CSS_SELECTOR, value=css_selector) instead\n",
      "  elements = browser.find_elements_by_css_selector(\"input[type='text']\")\n",
      "C:\\Users\\lolid\\AppData\\Local\\Temp\\ipykernel_11112\\3481652499.py:8: DeprecationWarning: find_element_by_css_selector is deprecated. Please use find_element(by=By.CSS_SELECTOR, value=css_selector) instead\n",
      "  button = browser.find_element_by_css_selector(\"button.btn\")\n"
     ]
    }
   ],
   "source": [
    "try:\n",
    "    browser = webdriver.Chrome()\n",
    "    browser.get(\"http://suninjuly.github.io/huge_form.html\")\n",
    "    # если нужно найти все элементы с определенным type\n",
    "    elements = browser.find_elements_by_css_selector(\"input[type='text']\")\n",
    "    for element in elements:\n",
    "        element.send_keys(\"Мой ответ\")\n",
    "\n",
    "    button = browser.find_element_by_css_selector(\"button.btn\")\n",
    "    button.click()\n",
    "\n",
    "finally:\n",
    "    time.sleep(30)\n",
    "    browser.quit()\n"
   ]
  },
  {
   "cell_type": "markdown",
   "metadata": {},
   "source": [
    "Задание. Зайти на сайт, заполнить все поля и нажать на кнопку"
   ]
  },
  {
   "cell_type": "code",
   "execution_count": 27,
   "metadata": {},
   "outputs": [],
   "source": [
    "link = \"http://suninjuly.github.io/find_xpath_form\""
   ]
  },
  {
   "cell_type": "code",
   "execution_count": 32,
   "metadata": {},
   "outputs": [
    {
     "name": "stderr",
     "output_type": "stream",
     "text": [
      "C:\\Users\\lolid\\AppData\\Local\\Temp\\ipykernel_11112\\3390923794.py:17: DeprecationWarning: find_element_by_xpath is deprecated. Please use find_element(by=By.XPATH, value=xpath) instead\n",
      "  button = browser.find_element_by_xpath('//button[text()=\"Submit\"]')\n"
     ]
    }
   ],
   "source": [
    "try:\n",
    "    browser = webdriver.Chrome()\n",
    "    browser.get(link)\n",
    "\n",
    "    input1 = browser.find_element(by=By.NAME, value=\"first_name\")\n",
    "    input1.send_keys(\"I\")\n",
    "\n",
    "    input2 = browser.find_element(by=By.NAME, value=\"last_name\")\n",
    "    input2.send_keys(\"P\")\n",
    "\n",
    "    input3 = browser.find_element(by=By.CLASS_NAME, value=\"form-control.city\")\n",
    "    input3.send_keys(\"S\")\n",
    "\n",
    "    input4 = browser.find_element(by=By.ID, value=\"country\")\n",
    "    input4.send_keys(\"R\")\n",
    "\n",
    "    button = browser.find_element(by=By.XPATH, value='//button[text()=\"Submit\"]')\n",
    "    button.click()\n",
    "\n",
    "\n",
    "\n",
    "finally:\n",
    "    time.sleep(30)\n",
    "    browser.quit()\n"
   ]
  },
  {
   "cell_type": "markdown",
   "metadata": {},
   "source": [
    "Задание. Зайти на сайт, заполнить все обязательные поля, нажать на кнопку и убедиться, что все прошло успешно (должен появится поеределенный текст). "
   ]
  },
  {
   "cell_type": "code",
   "execution_count": null,
   "metadata": {},
   "outputs": [],
   "source": [
    "try: \n",
    "    link = \"http://suninjuly.github.io/registration1.html\"\n",
    "    browser = webdriver.Chrome()\n",
    "    browser.get(link)\n",
    "\n",
    "    # Ваш код, который заполняет обязательные поля\n",
    "    required_elements = browser.find_elements_by_css_selector('input[required]')\n",
    "    for element in required_elements:\n",
    "        element.send_keys('required')\n",
    "\n",
    "    # Отправляем заполненную форму\n",
    "    button = browser.find_element_by_css_selector(\"button.btn\")\n",
    "    button.click()\n",
    "\n",
    "    # Проверяем, что смогли зарегистрироваться\n",
    "    # ждем загрузки страницы\n",
    "    time.sleep(1)\n",
    "\n",
    "    # находим элемент, содержащий текст\n",
    "    welcome_text_elt = browser.find_element_by_tag_name(\"h1\")\n",
    "    # записываем в переменную welcome_text текст из элемента welcome_text_elt\n",
    "    welcome_text = welcome_text_elt.text\n",
    "\n",
    "    # с помощью assert проверяем, что ожидаемый текст совпадает с текстом на странице сайта\n",
    "    assert \"Congratulations! You have successfully registered!\" == welcome_text\n",
    "\n",
    "finally:\n",
    "    # ожидание чтобы визуально оценить результаты прохождения скрипта\n",
    "    time.sleep(10)\n",
    "    # закрываем браузер после всех манипуляций\n",
    "    browser.quit()"
   ]
  },
  {
   "cell_type": "markdown",
   "metadata": {},
   "source": [
    "Задание. Открыть страницу http://suninjuly.github.io/math.html.\n",
    "Считать значение для переменной x.\n",
    "Посчитать математическую функцию от x (код для этого приведён ниже).\n",
    "Ввести ответ в текстовое поле.\n",
    "Отметить checkbox \"I'm the robot\".\n",
    "Выбрать radiobutton \"Robots rule!\".\n",
    "Нажать на кнопку Submit."
   ]
  },
  {
   "cell_type": "code",
   "execution_count": null,
   "metadata": {},
   "outputs": [],
   "source": [
    "try: \n",
    "    link = \"http://suninjuly.github.io/math.html\"\n",
    "    browser = webdriver.Chrome()\n",
    "    browser.get(link)\n",
    "\n",
    "    def calc(x):\n",
    "        return str(math.log(abs(12*math.sin(int(x)))))\n",
    "\n",
    "    x_element = browser.find_element(by=By.ID, value=\"input_value\")\n",
    "    x = x_element.text\n",
    "    y = calc(x)\n",
    "\n",
    "    input = browser.find_element(by=By.ID, value=\"answer\")\n",
    "    input.send_keys(y)\n",
    "\n",
    "    option1 = browser.find_element(by=By.ID, value=\"robotCheckbox\")\n",
    "    option1.click()\n",
    "\n",
    "    option2 = browser.find_element(by=By.ID, value=\"robotsRule\")\n",
    "    option2.click()\n",
    "\n",
    "    button = browser.find_element(by=By.XPATH, value='//button[text()=\"Submit\"]')\n",
    "    button.click()\n",
    "\n",
    "finally:\n",
    "    time.sleep(10)\n",
    "    browser.quit()\n"
   ]
  },
  {
   "cell_type": "markdown",
   "metadata": {},
   "source": [
    "Проверить, что для одного из radiobutton по умолчанию уже выбрано значение"
   ]
  },
  {
   "cell_type": "code",
   "execution_count": 39,
   "metadata": {},
   "outputs": [
    {
     "name": "stderr",
     "output_type": "stream",
     "text": [
      "C:\\Users\\lolid\\AppData\\Local\\Temp\\ipykernel_11112\\1704140257.py:6: DeprecationWarning: find_element_by_* commands are deprecated. Please use find_element() instead\n",
      "  people_radio = browser.find_element_by_id(\"peopleRule\")\n"
     ]
    },
    {
     "name": "stdout",
     "output_type": "stream",
     "text": [
      "value of people radio:  true\n"
     ]
    }
   ],
   "source": [
    "try: \n",
    "    link = \"http://suninjuly.github.io/math.html\"\n",
    "    browser = webdriver.Chrome()\n",
    "    browser.get(link)\n",
    "    \n",
    "    people_radio = browser.find_element_by_id(\"peopleRule\")\n",
    "    people_checked = people_radio.get_attribute(\"checked\")\n",
    "    print(\"value of people radio: \", people_checked)\n",
    "    assert people_checked is not None, \"People radio is not selected by default\"\n",
    "\n",
    "finally:\n",
    "    time.sleep(10)\n",
    "    browser.quit()\n"
   ]
  },
  {
   "cell_type": "markdown",
   "metadata": {},
   "source": [
    "Задание. Открыть страницу http://suninjuly.github.io/get_attribute.html.\n",
    "Найти на ней элемент-картинку, который является изображением сундука с сокровищами.\n",
    "Взять у этого элемента значение атрибута valuex, которое является значением x для задачи.\n",
    "Посчитать математическую функцию от x (сама функция остаётся неизменной).\n",
    "Ввести ответ в текстовое поле.\n",
    "Отметить checkbox \"I'm the robot\".\n",
    "Выбрать radiobutton \"Robots rule!\".\n",
    "Нажать на кнопку \"Submit\"."
   ]
  },
  {
   "cell_type": "code",
   "execution_count": 43,
   "metadata": {},
   "outputs": [],
   "source": [
    "try: \n",
    "    link = \"http://suninjuly.github.io/get_attribute.html\"\n",
    "    browser = webdriver.Chrome()\n",
    "    browser.get(link)\n",
    "\n",
    "    def calc(x):\n",
    "        return str(math.log(abs(12*math.sin(int(x)))))\n",
    "\n",
    "    x_element = browser.find_element(by=By.ID, value=\"treasure\")\n",
    "    x = x_element.get_attribute(\"valuex\")\n",
    "    y = calc(x)\n",
    "\n",
    "    input = browser.find_element(by=By.ID, value=\"answer\")\n",
    "    input.send_keys(y)\n",
    "\n",
    "    option1 = browser.find_element(by=By.ID, value=\"robotCheckbox\")\n",
    "    option1.click()\n",
    "\n",
    "    option2 = browser.find_element(by=By.ID, value=\"robotsRule\")\n",
    "    option2.click()\n",
    "\n",
    "    button = browser.find_element(by=By.XPATH, value='//button[text()=\"Submit\"]')\n",
    "    button.click()\n",
    "\n",
    "finally:\n",
    "    time.sleep(10)\n",
    "    browser.quit()"
   ]
  },
  {
   "cell_type": "code",
   "execution_count": null,
   "metadata": {},
   "outputs": [],
   "source": []
  }
 ],
 "metadata": {
  "interpreter": {
   "hash": "e2069fa8660d98726444b1c3a8c46ff048e6d6948b652fe796c47d12eb80b502"
  },
  "kernelspec": {
   "display_name": "Python 3.10.2 64-bit",
   "language": "python",
   "name": "python3"
  },
  "language_info": {
   "codemirror_mode": {
    "name": "ipython",
    "version": 3
   },
   "file_extension": ".py",
   "mimetype": "text/x-python",
   "name": "python",
   "nbconvert_exporter": "python",
   "pygments_lexer": "ipython3",
   "version": "3.10.2"
  },
  "orig_nbformat": 4
 },
 "nbformat": 4,
 "nbformat_minor": 2
}
