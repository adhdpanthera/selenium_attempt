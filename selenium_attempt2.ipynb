{
 "cells": [
  {
   "cell_type": "markdown",
   "metadata": {},
   "source": [
    "Работа со списками и файлами"
   ]
  },
  {
   "cell_type": "code",
   "execution_count": 20,
   "metadata": {},
   "outputs": [],
   "source": [
    "from selenium import webdriver\n",
    "from selenium.webdriver.common.by import By\n",
    "from selenium.webdriver.support.ui import Select\n",
    "import time \n",
    "import math\n",
    "import os "
   ]
  },
  {
   "cell_type": "code",
   "execution_count": 3,
   "metadata": {},
   "outputs": [],
   "source": [
    "link='http://suninjuly.github.io/selects1.html'"
   ]
  },
  {
   "cell_type": "markdown",
   "metadata": {},
   "source": [
    "Задание. Кликнуть на вариант из выпадающего списка"
   ]
  },
  {
   "cell_type": "code",
   "execution_count": null,
   "metadata": {},
   "outputs": [],
   "source": [
    "browser = webdriver.Chrome()\n",
    "browser.get(link)\n",
    "\n",
    "\n",
    "browser.find_element_by_tag_name(\"select\").click()\n",
    "browser.find_element_by_css_selector(\"option:nth-child(2)\").click()"
   ]
  },
  {
   "cell_type": "markdown",
   "metadata": {},
   "source": [
    "А можно и так записать"
   ]
  },
  {
   "cell_type": "code",
   "execution_count": null,
   "metadata": {},
   "outputs": [],
   "source": [
    "select = Select(browser.find_element_by_tag_name(\"select\"))\n",
    "select.select_by_value(\"1\") # ищем элемент с текстом \"Python\""
   ]
  },
  {
   "cell_type": "markdown",
   "metadata": {},
   "source": [
    "Можно использовать еще два метода: select.select_by_visible_text(\"text\") и select.select_by_index(index). Первый способ ищет элемент по видимому тексту, например, select.select_by_visible_text(\"Python\") найдёт \"Python\" для нашего примера."
   ]
  },
  {
   "cell_type": "markdown",
   "metadata": {},
   "source": [
    "Задание. Открыть страницу http://suninjuly.github.io/selects1.html\n",
    "Посчитать сумму заданных чисел\n",
    "Выбрать в выпадающем списке значение равное расчитанной сумме\n",
    "Нажать кнопку \"Submit\""
   ]
  },
  {
   "cell_type": "code",
   "execution_count": 12,
   "metadata": {},
   "outputs": [
    {
     "name": "stderr",
     "output_type": "stream",
     "text": [
      "C:\\Users\\lolid\\AppData\\Local\\Temp\\ipykernel_16236\\4088253436.py:17: DeprecationWarning: find_element_by_css_selector is deprecated. Please use find_element(by=By.CSS_SELECTOR, value=css_selector) instead\n",
      "  button = browser.find_element_by_css_selector(\"button.btn\")\n"
     ]
    }
   ],
   "source": [
    "try:\n",
    "    browser = webdriver.Chrome()\n",
    "    browser.get(link)\n",
    "\n",
    "    num1_elt = browser.find_element(by=By.ID, value='num1')\n",
    "    num1 = int(num1_elt.text)\n",
    "    num2_elt = browser.find_element(by=By.ID, value='num2')\n",
    "    num2 = int(num2_elt.text)\n",
    "    answer = num1+num2\n",
    "\n",
    "    # browser.find_element(by=By.TAG_NAME, value=\"select\").click()\n",
    "    # browser.find_element(by=By.CSS_SELECTOR, value=answer).click()\n",
    "\n",
    "    select = Select(browser.find_element(by=By.TAG_NAME, value=\"select\"))\n",
    "    select.select_by_visible_text(str(answer))\n",
    "\n",
    "    button = browser.find_element(by=By.CSS_SELECTOR, value=\"button.btn\")\n",
    "    button.click()\n",
    "\n",
    "finally:\n",
    "    time.sleep(5)\n",
    "    browser.quit()"
   ]
  },
  {
   "cell_type": "markdown",
   "metadata": {},
   "source": [
    "Задание. Вызвать alert в браузере с помощью WebDriver"
   ]
  },
  {
   "cell_type": "code",
   "execution_count": 16,
   "metadata": {},
   "outputs": [],
   "source": [
    "browser = webdriver.Chrome()\n",
    "# browser.execute_script(\"alert('Robots at work');\")\n",
    "# browser.execute_script(\"document.title='Script executing';\")\n",
    "browser.execute_script(\"document.title='Script executing';alert('Robots at work');\")"
   ]
  },
  {
   "cell_type": "markdown",
   "metadata": {},
   "source": [
    "Пример ошибки, когда кнопка перекрыта футером"
   ]
  },
  {
   "cell_type": "code",
   "execution_count": null,
   "metadata": {},
   "outputs": [],
   "source": [
    "browser = webdriver.Chrome()\n",
    "link = \"https://SunInJuly.github.io/execute_script.html\"\n",
    "browser.get(link)\n",
    "button = browser.find_element_by_tag_name(\"button\")\n",
    "button.click()"
   ]
  },
  {
   "cell_type": "markdown",
   "metadata": {},
   "source": [
    "В итоге, чтобы кликнуть на перекрытую кнопку, нам нужно выполнить следующие команды в коде (заставляем браузер дополнительно проскроллить нужный элемент, чтобы он точно стал видимым)"
   ]
  },
  {
   "cell_type": "code",
   "execution_count": null,
   "metadata": {},
   "outputs": [],
   "source": [
    "button = browser.find_element_by_tag_name(\"button\")\n",
    "browser.execute_script(\"return arguments[0].scrollIntoView(true);\", button)\n",
    "button.click()"
   ]
  },
  {
   "cell_type": "markdown",
   "metadata": {},
   "source": [
    "Также можно проскроллить всю страницу целиком на строго заданное количество пикселей. Эта команда проскроллит страницу на 100 пикселей вниз"
   ]
  },
  {
   "cell_type": "code",
   "execution_count": null,
   "metadata": {},
   "outputs": [],
   "source": [
    "browser.execute_script(\"window.scrollBy(0, 100);\")"
   ]
  },
  {
   "cell_type": "markdown",
   "metadata": {},
   "source": [
    "Задание. Открыть страницу http://SunInJuly.github.io/execute_script.html.\n",
    "Считать значение для переменной x.\n",
    "Посчитать математическую функцию от x.\n",
    "Проскроллить страницу вниз.\n",
    "Ввести ответ в текстовое поле.\n",
    "Выбрать checkbox \"I'm the robot\".\n",
    "Переключить radiobutton \"Robots rule!\".\n",
    "Нажать на кнопку \"Submit\"."
   ]
  },
  {
   "cell_type": "code",
   "execution_count": 19,
   "metadata": {},
   "outputs": [],
   "source": [
    "try: \n",
    "    browser = webdriver.Chrome()\n",
    "    link = \"https://SunInJuly.github.io/execute_script.html\"\n",
    "    browser.get(link)\n",
    "\n",
    "    def calc(x):\n",
    "        return str(math.log(abs(12*math.sin(int(x)))))\n",
    "\n",
    "    x_element = browser.find_element(by=By.ID, value=\"input_value\")\n",
    "    x = x_element.text\n",
    "    y = calc(x)\n",
    "\n",
    "    input = browser.find_element(by=By.ID, value=\"answer\")\n",
    "    input.send_keys(y)\n",
    "\n",
    "    option1 = browser.find_element(by=By.ID, value=\"robotCheckbox\")\n",
    "    option1.click()\n",
    "\n",
    "    option2 = browser.find_element(by=By.ID, value=\"robotsRule\")\n",
    "    browser.execute_script(\"return arguments[0].scrollIntoView(true);\", option2)\n",
    "    option2.click()\n",
    "\n",
    "    button = browser.find_element(by=By.XPATH, value='//button[text()=\"Submit\"]')\n",
    "    browser.execute_script(\"return arguments[0].scrollIntoView(true);\", button)\n",
    "    button.click()\n",
    "\n",
    "finally:\n",
    "    time.sleep(10)\n",
    "    browser.quit()"
   ]
  },
  {
   "cell_type": "markdown",
   "metadata": {},
   "source": [
    "Пример кода, который позволяет указать путь к файлу 'file.txt', находящемуся в той же папке, что и скрипт, который вы запускаете"
   ]
  },
  {
   "cell_type": "code",
   "execution_count": null,
   "metadata": {},
   "outputs": [],
   "source": [
    "current_dir = os.path.abspath(os.path.dirname(__file__))    # получаем путь к директории текущего исполняемого файла \n",
    "file_path = os.path.join(current_dir, 'file.txt')           # добавляем к этому пути имя файла \n",
    "element.send_keys(file_path)"
   ]
  },
  {
   "cell_type": "markdown",
   "metadata": {},
   "source": [
    "Задание. Открыть страницу http://suninjuly.github.io/file_input.html\n",
    "Заполнить текстовые поля: имя, фамилия, email\n",
    "Загрузить файл. Файл должен иметь расширение .txt и может быть пустым\n",
    "Нажать кнопку \"Submit\""
   ]
  },
  {
   "cell_type": "code",
   "execution_count": 22,
   "metadata": {},
   "outputs": [],
   "source": [
    "try: \n",
    "    browser = webdriver.Chrome()\n",
    "    link = \"http://suninjuly.github.io/file_input.html\"\n",
    "    browser.get(link)\n",
    "\n",
    "    input1 = browser.find_element(by=By.NAME, value=\"firstname\")\n",
    "    input1.send_keys(\"A\")\n",
    "\n",
    "    input2 = browser.find_element(by=By.NAME, value=\"lastname\")\n",
    "    input2.send_keys(\"A\")\n",
    "\n",
    "    input3 = browser.find_element(by=By.NAME, value=\"email\")\n",
    "    input3.send_keys(\"A\")\n",
    "\n",
    "    element = browser.find_element(by=By.NAME, value=\"file\")\n",
    "    current_dir = os.path.abspath(os.path.dirname('selenium_attempt2.ipynb'))       # получаем путь к директории текущего исполняемого файла \n",
    "    file_path = os.path.join(current_dir, 'text.txt')                               # добавляем к этому пути имя файла \n",
    "    element.send_keys(file_path)\n",
    "\n",
    "    button = browser.find_element(by=By.XPATH, value='//button[text()=\"Submit\"]')\n",
    "    button.click()\n",
    "\n",
    "finally:\n",
    "    time.sleep(10)\n",
    "    browser.quit()"
   ]
  }
 ],
 "metadata": {
  "interpreter": {
   "hash": "e2069fa8660d98726444b1c3a8c46ff048e6d6948b652fe796c47d12eb80b502"
  },
  "kernelspec": {
   "display_name": "Python 3.10.2 64-bit",
   "language": "python",
   "name": "python3"
  },
  "language_info": {
   "codemirror_mode": {
    "name": "ipython",
    "version": 3
   },
   "file_extension": ".py",
   "mimetype": "text/x-python",
   "name": "python",
   "nbconvert_exporter": "python",
   "pygments_lexer": "ipython3",
   "version": "3.10.2"
  },
  "orig_nbformat": 4
 },
 "nbformat": 4,
 "nbformat_minor": 2
}
